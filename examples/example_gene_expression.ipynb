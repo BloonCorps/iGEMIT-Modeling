{
    "cells": [
        {
            "cell_type": "markdown",
            "source": [
                "# Example Gene Expression"
            ],
            "metadata": {}
        },
        {
            "cell_type": "code",
            "execution_count": null,
            "source": [
                "import numpy as np #matrix operations\r\n",
                "import matplotlib.pyplot as plt #plotter\r\n",
                "from scipy.integrate import odeint #ode solver\r\n",
                "#%matplotlib inline #makes the graph integrated into the notebook\r\n",
                "\r\n",
                "#Define the ODE\r\n",
                "def bckdh_curve(bckdh_conc, time):\r\n",
                "    return 1 - 1*bckdh_conc\r\n",
                "\r\n",
                "t = np.linspace(0, 5, 1000) #step times\r\n",
                "\r\n",
                "#Solve the ODE with initial condition defined in species.\r\n",
                "solution = odeint(bckdh_curve, 0, t)\r\n",
                "\r\n",
                "#Plot the solution.\r\n",
                "plt.plot(t, solution)\r\n",
                "plt.title(\"[BCKDH] Concentration Over Time\")\r\n",
                "plt.xlabel('Time in seconds')\r\n",
                "plt.ylabel('[BCKDH] in mmol/L')"
            ],
            "outputs": [],
            "metadata": {}
        }
    ],
    "metadata": {
        "orig_nbformat": 4,
        "language_info": {
            "name": "python"
        }
    },
    "nbformat": 4,
    "nbformat_minor": 2
}