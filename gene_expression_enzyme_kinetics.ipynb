{
    "cells": [
        {
            "cell_type": "markdown",
            "source": [
                "# Gene Expression and Enzyme Kinetics "
            ],
            "metadata": {}
        },
        {
            "cell_type": "markdown",
            "source": [
                "## Gene Expression ODEs"
            ],
            "metadata": {}
        },
        {
            "cell_type": "markdown",
            "source": [
                "![diagram](images\\diagram.png)"
            ],
            "metadata": {}
        },
        {
            "cell_type": "markdown",
            "source": [
                "Since all of the genes of interest are constitutively expressed, we can model their rates by the following ODES:\r\n",
                "\r\n",
                "$$\\frac{d[\\text{ilvK}]}{dt} = \\gamma_1 - \\varsigma_1 \\cdot [\\text{ilvK}]$$\r\n",
                "$$\\frac{d[\\text{bCAP}]}{dt} = \\gamma_2 - \\varsigma_2 \\cdot [\\text{bCAP}]$$\r\n",
                "$$\\frac{d[\\text{BCKDH}]}{dt} = \\gamma_3 - \\varsigma_3 \\cdot [\\text{BCKDH}]$$\r\n",
                "\r\n",
                "$\\gamma$ represents the respective basal translation rates, and $\\varsigma$ represents the respective breakdown factors."
            ],
            "metadata": {}
        },
        {
            "cell_type": "markdown",
            "source": [
                "## Enzyme Kinetics ODEs"
            ],
            "metadata": {}
        },
        {
            "cell_type": "markdown",
            "source": [
                "![pathways](images/pathways.png)"
            ],
            "metadata": {}
        },
        {
            "cell_type": "markdown",
            "source": [
                "The breakdown of all three branched chain amino acids follow a similar pathway:\r\n",
                "\r\n",
                "$$\\text{Reaction 1}: BCAA + oxoglutarate + ilvK \\rightleftharpoons complex_1 \\rightarrow BCKA + ilvK + glutamate$$\r\n",
                "\r\n",
                "$$\\text{Reaction 2}: BCKA + BCKDH + NAD^{+} + CoA \\rightleftharpoons complex_2 \\rightarrow \\text{butanol-CoA} + \\text{BCKDH} + \\text{CO}_2 + \\text{NADH}$$\r\n",
                "\r\n",
                "We do not concern ourselves with the breakdown of butanol-COA.\r\n",
                "\r\n",
                "Noting that the concentration of ilvK and BCKDH not only depend on enzyme kinetics but also gene expression, The ODEs then are as follows:\r\n",
                "\r\n",
                "0. $$\\frac{dBCAA_{out}}{dt} = -k_{in}[bCAP]$$\r\n",
                "\r\n",
                "1. $$\\frac{d[BCAA_{in}]}{dt} = -k_1[BCAA][ilvK][oxoglutarate] + k_{-1}[complex_1]+ k_{in}[BCAP]$$\r\n",
                "\r\n",
                "2. $$\\frac{d[\\text{bCAP}]}{dt} = \\gamma_2 - \\varsigma_2 [\\text{bCAP}]$$\r\n",
                "\r\n",
                "3. $$\\frac{d[ilvK]}{dt} = (-k_1[BCAA][ilvK][oxoglutarate] + k_{-1}[complex_1] + k_2[complex_1]) + (\\gamma_1 - \\varsigma_1 [\\text{ilvK}])$$\r\n",
                "\r\n",
                "4. $$\\frac{d[complex_1]}{dt} = k_1[BCAA][ilvK] - k_{-1}[complex_1] - k_2[complex_1]$$\r\n",
                "\r\n",
                "5. $$\\frac{d[BCKA]}{dt} = k_2[complex_1] - k_3[BCKA][BCKDH][NAD+][CoA] + k_{-3}[complex_2]$$\r\n",
                "\r\n",
                "6. $$\\frac{d[complex_2]}{dt} = k_3[BCKA][BCKDH][NAD+][CoA] - k_{-3}[complex_2] - k_{4}[complex_2]$$\r\n",
                "\r\n",
                "7. $$\\frac{d[BCKDH]}{dt} = (-k_3[BCKA][BCKDH][NAD+][CoA] + k_{-3}[complex_2] + k_4[complex_2]) + (\\gamma_3 - \\varsigma_3 [\\text{BCKDH}])$$\r\n",
                "\r\n",
                "8. $$\\frac{d[oxoglutarate]}{dt} = \\frac{d[NAD+]}{dt} = \\frac{d[CoA]}{dt} = 0$$\r\n"
            ],
            "metadata": {}
        },
        {
            "cell_type": "markdown",
            "source": [
                "## Modeling Code"
            ],
            "metadata": {}
        },
        {
            "cell_type": "markdown",
            "source": [
                "First we solve an example where we just care about the concentration of BCKDH."
            ],
            "metadata": {}
        },
        {
            "cell_type": "markdown",
            "source": [
                "First we have to count up the species:\r\n",
                "\r\n",
                "1. BCAA\r\n",
                "2. oxoglutarate\r\n",
                "3. ilvK\r\n",
                "4. complex_1\r\n",
                "5. BCKA\r\n",
                "6. glutamate\r\n",
                "7. BCKDH\r\n",
                "8. NAD+\r\n",
                "9. Coenzyme A\r\n",
                "10. complex_2\r\n",
                "11. butanol-CoA\r\n",
                "12. CO_2 \r\n",
                "13. NADH\r\n",
                "\r\n",
                "However, we are only interested in the rate of disappearance of BCAAs, so the species we should not concern ourselves with modeling the rate of production of butanol-CoA, CO_2, NADH.\r\n",
                "\r\n",
                "Also, we can assume that the concentration of NAD+, oxoglutarate, and CoA are relatively constant as they are replenished by other pathways in the cell."
            ],
            "metadata": {}
        },
        {
            "cell_type": "code",
            "execution_count": 2,
            "source": [
                "import numpy as np #matrix operations\r\n",
                "import matplotlib.pyplot as plt #plotter\r\n",
                "from scipy.integrate import odeint #ode solver\r\n",
                "\r\n",
                "species = { #concentrations in mmol/L\r\n",
                "    #transport protein\r\n",
                "    'bCAP': 0,\r\n",
                "    #Enzymes\r\n",
                "    'ilvK': 0,\r\n",
                "    'BCKDH': 0,\r\n",
                "    #Rectants\r\n",
                "    'BCAA_out': 10000,\r\n",
                "    'BCAA_in': 1000,\r\n",
                "    'oxoglutarate': 1,\r\n",
                "    'BCKA': 1,\r\n",
                "    'NAD+': 1,\r\n",
                "    'CoA': 1,\r\n",
                "    #Complexes\r\n",
                "    'Complex1': 0,\r\n",
                "    'Complex2': 0,\r\n",
                "}\r\n",
                "\r\n",
                "consts = {\r\n",
                "    #ilvK constants\r\n",
                "    'lambda_1': 5,\r\n",
                "    'sigma_1': 0.1,\r\n",
                "    #BCAP constants\r\n",
                "    'lambda_2': 5,\r\n",
                "    'sigma_2': 0.1,\r\n",
                "    #BCKDH constants\r\n",
                "    'lambda_3': 5,\r\n",
                "    'sigma_3': 0.1, \r\n",
                "    #Rate constants\r\n",
                "    'k_1': 100,\r\n",
                "    'k_-1': 10,\r\n",
                "    'k_2': 10,\r\n",
                "    'k_3': 1,\r\n",
                "    'k_-3': 0.1,\r\n",
                "    'k_4': 10,\r\n",
                "    'k_in': 10,\r\n",
                "}\r\n",
                "\r\n",
                "#Define reaction.\r\n",
                "coa_conc = species['CoA']\r\n",
                "nadt_conc = species['NAD+']\r\n",
                "oxoglutarate_conc = species['oxoglutarate']\r\n",
                "\r\n",
                "def reaction(conc, time):\r\n",
                "    bcaa_conc = conc[0]\r\n",
                "    ilvK_conc = conc[1]\r\n",
                "    complex1_conc = conc[2]\r\n",
                "    bcka_conc = conc[3]\r\n",
                "    complex2_conc = conc[4] \r\n",
                "    bckdh_conc = conc[5]\r\n",
                "    bcaa_out = conc[6]\r\n",
                "    bcap_conc = conc[7]\r\n",
                "\r\n",
                "    dBCAAindt = -consts['k_1']*bcaa_conc*ilvK_conc*oxoglutarate_conc \\\r\n",
                "        + consts['k_-1']*complex1_conc \\\r\n",
                "        + consts['k_in']*bcap_conc\r\n",
                "    \r\n",
                "    dilvKdt = -consts['k_1']*bcaa_conc*ilvK_conc*oxoglutarate_conc \\\r\n",
                "        + consts['k_-1']*complex1_conc + consts['k_2']*complex1_conc \\\r\n",
                "        + consts['lambda_1'] - consts['sigma_1']*ilvK_conc\r\n",
                "    \r\n",
                "    dcomplex1dt = consts['k_1']*bcaa_conc*ilvK_conc \\\r\n",
                "        - consts['k_-1']*complex1_conc - consts['k_2']*complex1_conc\r\n",
                "\r\n",
                "    dBCKAdt = consts['k_2']*complex1_conc \\\r\n",
                "        - consts['k_3']*bcka_conc*bckdh_conc*nadt_conc*coa_conc \\\r\n",
                "        + consts['k_-3']*complex2_conc\r\n",
                "    \r\n",
                "    dcomplex2dt = consts['k_3']*bcka_conc*bckdh_conc*nadt_conc*coa_conc \\\r\n",
                "        - consts['k_-3']*complex2_conc - consts['k_4']*complex2_conc\r\n",
                "    \r\n",
                "    dBCKDHdt = -consts['k_3']*bcka_conc*bckdh_conc*nadt_conc*coa_conc \\\r\n",
                "        + consts['k_-3']*complex2_conc + consts['k_4']*complex2_conc \\\r\n",
                "        + consts['lambda_3'] - consts['sigma_3']*bckdh_conc\r\n",
                "    \r\n",
                "    dBCAAoutdt = -consts['k_in']*bcap_conc\r\n",
                "    \r\n",
                "    dbCAPdt = consts['lambda_2'] - consts['sigma_2']*bcap_conc\r\n",
                "\r\n",
                "    return [dBCAAindt, dilvKdt, dcomplex1dt, \\\r\n",
                "        dBCKAdt, dcomplex2dt, dBCKDHdt, \\\r\n",
                "        dBCAAoutdt, dbCAPdt]\r\n",
                "\r\n",
                "#Define timesteps.\r\n",
                "t = np.linspace(0, 6, 1000) #step times\r\n",
                "\r\n",
                "#Solve the ODE with initial condition defined in species.\r\n",
                "s = species\r\n",
                "initial_conc = [s['BCAA_in'], s['ilvK'], s['Complex1'], \\\r\n",
                "    s['BCKA'], s['Complex2'], s['BCKDH'], s['BCAA_out'], s['bCAP']]\r\n",
                "\r\n",
                "solution = odeint(reaction, initial_conc, t)\r\n",
                "\r\n",
                "fig = plt.figure(0)\r\n",
                "fig.clf()\r\n",
                "plt.plot(t, solution[:, 0])\r\n",
                "plt.title(\"[BCAA] Concentration Over Time in B. subtilis\")\r\n",
                "plt.xlabel('Time in seconds')\r\n",
                "plt.ylabel('[BCAA] in mmol/L')\r\n",
                "plt.show()\r\n",
                "\r\n",
                "fig = plt.figure(0)\r\n",
                "fig.clf()\r\n",
                "plt.plot(t, solution[:, 5])\r\n",
                "plt.title(\"[BCKDH] Concentration Over Time Inside B. Subtilis\")\r\n",
                "plt.xlabel('Time in seconds')\r\n",
                "plt.ylabel('[BCKDH] in mmol/L')\r\n",
                "plt.show()\r\n",
                "\r\n",
                "'''\r\n",
                "fig = plt.figure(0)\r\n",
                "fig.clf()\r\n",
                "plt.plot(t, solution[:, 6])\r\n",
                "plt.title(\"[BCAA] Outside the Cell\")\r\n",
                "plt.xlabel('Time in seconds')\r\n",
                "plt.ylabel('[BCAA] in mmol/L')\r\n",
                "plt.show()\r\n",
                "'''\r\n",
                "    "
            ],
            "outputs": [
                {
                    "output_type": "error",
                    "ename": "NameError",
                    "evalue": "name 'np' is not defined",
                    "traceback": [
                        "\u001b[1;31m---------------------------------------------------------------------------\u001b[0m",
                        "\u001b[1;31mNameError\u001b[0m                                 Traceback (most recent call last)",
                        "\u001b[1;32m<ipython-input-2-bfd0729ba157>\u001b[0m in \u001b[0;36m<module>\u001b[1;34m\u001b[0m\n\u001b[0;32m     83\u001b[0m \u001b[1;33m\u001b[0m\u001b[0m\n\u001b[0;32m     84\u001b[0m \u001b[1;31m#Define timesteps.\u001b[0m\u001b[1;33m\u001b[0m\u001b[1;33m\u001b[0m\u001b[1;33m\u001b[0m\u001b[0m\n\u001b[1;32m---> 85\u001b[1;33m \u001b[0mt\u001b[0m \u001b[1;33m=\u001b[0m \u001b[0mnp\u001b[0m\u001b[1;33m.\u001b[0m\u001b[0mlinspace\u001b[0m\u001b[1;33m(\u001b[0m\u001b[1;36m0\u001b[0m\u001b[1;33m,\u001b[0m \u001b[1;36m6\u001b[0m\u001b[1;33m,\u001b[0m \u001b[1;36m1000\u001b[0m\u001b[1;33m)\u001b[0m \u001b[1;31m#step times\u001b[0m\u001b[1;33m\u001b[0m\u001b[1;33m\u001b[0m\u001b[0m\n\u001b[0m\u001b[0;32m     86\u001b[0m \u001b[1;33m\u001b[0m\u001b[0m\n\u001b[0;32m     87\u001b[0m \u001b[1;31m#Solve the ODE with initial condition defined in species.\u001b[0m\u001b[1;33m\u001b[0m\u001b[1;33m\u001b[0m\u001b[1;33m\u001b[0m\u001b[0m\n",
                        "\u001b[1;31mNameError\u001b[0m: name 'np' is not defined"
                    ]
                }
            ],
            "metadata": {}
        }
    ],
    "metadata": {
        "orig_nbformat": 4,
        "language_info": {
            "name": "python",
            "version": "3.8.5",
            "mimetype": "text/x-python",
            "codemirror_mode": {
                "name": "ipython",
                "version": 3
            },
            "pygments_lexer": "ipython3",
            "nbconvert_exporter": "python",
            "file_extension": ".py"
        },
        "kernelspec": {
            "name": "python3",
            "display_name": "Python 3.8.5 64-bit ('base': conda)"
        },
        "interpreter": {
            "hash": "8ab0d968002a578cf1e1aa041721a175249ba338f6da29efa5ef1a380c630376"
        }
    },
    "nbformat": 4,
    "nbformat_minor": 2
}