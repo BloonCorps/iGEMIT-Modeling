{
    "cells": [
        {
            "cell_type": "markdown",
            "source": [
                "# Cre-Lox Recombination Modeling"
            ],
            "metadata": {}
        },
        {
            "cell_type": "markdown",
            "source": [
                "We have a constitutive promoter with the gene tetR. tetR is a repressor for tet. In this repressed state, the Cre-Lox system does nothing. \r\n",
                "\r\n",
                "Once we add a tetracycline derivataive (e.g DOX/ATC), the system is activated because DOX/ATC will bind to tetR proteins such that they can no longer function as a repressor. \r\n",
                "\r\n",
                "Then CRE is synthesized, and it will \"scan\" the $\\textit{B. subtilis}$ circular chromosome for the LOX site, cutting out the the terminator and endogenous promoter. It only takes a single molecule of CRE for the recombinase process to trigger, so it must be modeled stochastically; the quantiites of CRE are discrete rather than continuous. "
            ],
            "metadata": {}
        }
    ],
    "metadata": {
        "orig_nbformat": 4,
        "language_info": {
            "name": "python"
        }
    },
    "nbformat": 4,
    "nbformat_minor": 2
}