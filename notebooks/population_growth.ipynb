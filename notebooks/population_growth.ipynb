{
    "cells": [
        {
            "cell_type": "markdown",
            "source": [
                "# B. subtilis Population Growth"
            ],
            "metadata": {}
        },
        {
            "cell_type": "markdown",
            "source": [
                "The population of $\\textit{B. subtilis}$ can be modeled by a modified Monod equation which captures growth in the exponential and lag phases. To account for the "
            ],
            "metadata": {}
        }
    ],
    "metadata": {
        "orig_nbformat": 4,
        "language_info": {
            "name": "python"
        }
    },
    "nbformat": 4,
    "nbformat_minor": 2
}